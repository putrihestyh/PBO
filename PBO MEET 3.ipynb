{
 "cells": [
  {
   "cell_type": "code",
   "execution_count": null,
   "metadata": {},
   "outputs": [],
   "source": [
    "#inheritance=pewarisan dari claass ke subclass, yang diwariskan atribut\n",
    "#DEFAULT:property,property and method. semua yng di induk diwariskan tanpa ada penambahan\n",
    "\n",
    "#overriding: property/method dan method. fungsi yang sudah ada di modifikasi nilai property/method agar sesuai yg kita inginkan\n",
    "#override propertynya harus sama hanya property di class anak dimodifikasi, isi method boleh diganti.\n",
    "\n",
    "#super: property\n",
    "#menambahkan property di class anak. INILIASASI DI KELAS ANAK harus sesuai dengan inisialisasi di kelas induk.\n",
    "\n",
    "#multiple inheritance: ketika class bisa mewarisi atribut dan method lebih dari satu parent. mengkombinasikan dua parent"
   ]
  },
  {
   "cell_type": "raw",
   "metadata": {},
   "source": [
    "\n"
   ]
  },
  {
   "cell_type": "code",
   "execution_count": 7,
   "metadata": {},
   "outputs": [
    {
     "ename": "TypeError",
     "evalue": "swim_backwards() missing 1 required positional argument: 'self'",
     "output_type": "error",
     "traceback": [
      "\u001b[1;31m---------------------------------------------------------------------------\u001b[0m",
      "\u001b[1;31mTypeError\u001b[0m                                 Traceback (most recent call last)",
      "\u001b[1;32m<ipython-input-7-7dfd14805741>\u001b[0m in \u001b[0;36m<module>\u001b[1;34m()\u001b[0m\n\u001b[0;32m     22\u001b[0m \u001b[1;33m\u001b[0m\u001b[0m\n\u001b[0;32m     23\u001b[0m \u001b[0mhiu\u001b[0m\u001b[1;33m=\u001b[0m\u001b[0mshark\u001b[0m\u001b[1;33m(\u001b[0m\u001b[1;34m\"hiu besar\"\u001b[0m\u001b[1;33m)\u001b[0m\u001b[1;33m\u001b[0m\u001b[0m\n\u001b[1;32m---> 24\u001b[1;33m \u001b[0mshark\u001b[0m\u001b[1;33m.\u001b[0m\u001b[0mswim_backwards\u001b[0m\u001b[1;33m(\u001b[0m\u001b[1;33m)\u001b[0m\u001b[1;33m\u001b[0m\u001b[0m\n\u001b[0m\u001b[0;32m     25\u001b[0m \u001b[1;33m\u001b[0m\u001b[0m\n\u001b[0;32m     26\u001b[0m \u001b[1;33m\u001b[0m\u001b[0m\n",
      "\u001b[1;31mTypeError\u001b[0m: swim_backwards() missing 1 required positional argument: 'self'"
     ]
    }
   ],
   "source": [
    "#override\n",
    "class fish:\n",
    "    def __init__(self,first_name,last_name=\"fish\",\n",
    "                skeleton=\"bone\", eyelids=False):#default nya yang ada di dalam petik juka user tidak memasukkan inputan\n",
    "        self.first_name=first_name\n",
    "        self.last_name=last_name\n",
    "        self.skeleton=skeleton\n",
    "        self.eyelids=eyelids\n",
    "    def swim(self):\n",
    "        print(\"The fish is swimming\")\n",
    "    def swim_backwards(self):\n",
    "        print (\"The fish can swim backwards.\")\n",
    "class shark (fish):\n",
    "    def __init__(self,first_name,last_name=\"shark\",\n",
    "                skeleton=\"cartilago\", eyelids=False):#default nya yang ada di dalam petik juka user tidak memasukkan inputan\n",
    "        self.first_name=first_name\n",
    "        self.last_name=last_name\n",
    "        self.skeleton=skeleton\n",
    "        self.eyelids=eyelids\n",
    "    def swim_backwards(self):\n",
    "        print (\"the shark cannot swim backward, but can sink backward\")\n",
    "        \n",
    "hiu=shark(\"hiu besar\")\n",
    "shark.swim_backwards()\n",
    "        \n",
    "    "
   ]
  },
  {
   "cell_type": "code",
   "execution_count": 3,
   "metadata": {},
   "outputs": [
    {
     "name": "stdout",
     "output_type": "stream",
     "text": [
      "sisi= 4 bentuk= persegi\n",
      "sisi= 4 bentuk= persegi panjang\n",
      "mempunyai dua sisi yang sama\n",
      "sisi= 4 bentuk= bujur sangkar\n",
      "semua sisi sama\n"
     ]
    }
   ],
   "source": [
    "class persegi:\n",
    "    def __init__(self,segi,bentuk=\"persegi\"):\n",
    "        self.segi=segi\n",
    "        self.bentuk=bentuk\n",
    "    def display(self):\n",
    "        print (\"sisi=\",self.segi,\"bentuk=\",self.bentuk)\n",
    "class persegipanjang(persegi):\n",
    "    def __init__(self,segi,bentuk=\"persegi panjang\"):\n",
    "        self.segi=segi\n",
    "        self.bentuk=bentuk\n",
    "    def deskripsi(self):\n",
    "        print (\"mempunyai dua sisi yang sama\")\n",
    "class bujursangkar(persegi):\n",
    "    def __init__(self,segi,bentuk=\"bujur sangkar\"):\n",
    "        self.segi=segi\n",
    "        self.bentuk=bentuk\n",
    "    def deskripsi(self):\n",
    "        print (\"semua sisi sama\")\n",
    "        \n",
    "a=persegi(4)\n",
    "a.display()\n",
    "\n",
    "b=persegipanjang(4)\n",
    "b.display()\n",
    "b.deskripsi()\n",
    "\n",
    "c=bujursangkar(4)\n",
    "c.display()\n",
    "c.deskripsi()\n",
    "        "
   ]
  },
  {
   "cell_type": "code",
   "execution_count": 4,
   "metadata": {},
   "outputs": [
    {
     "name": "stdout",
     "output_type": "stream",
     "text": [
      "Name= Diana\n",
      "Name= Diana\n"
     ]
    },
    {
     "ename": "TypeError",
     "evalue": "__init__() takes 2 positional arguments but 3 were given",
     "output_type": "error",
     "traceback": [
      "\u001b[1;31m---------------------------------------------------------------------------\u001b[0m",
      "\u001b[1;31mTypeError\u001b[0m                                 Traceback (most recent call last)",
      "\u001b[1;32m<ipython-input-4-f610c89b2b1e>\u001b[0m in \u001b[0;36m<module>\u001b[1;34m()\u001b[0m\n\u001b[0;32m     24\u001b[0m \u001b[0mdiana1\u001b[0m\u001b[1;33m.\u001b[0m\u001b[0mprintName\u001b[0m\u001b[1;33m(\u001b[0m\u001b[1;33m)\u001b[0m\u001b[1;33m\u001b[0m\u001b[0m\n\u001b[0;32m     25\u001b[0m \u001b[1;33m\u001b[0m\u001b[0m\n\u001b[1;32m---> 26\u001b[1;33m \u001b[0mdiana\u001b[0m\u001b[1;33m=\u001b[0m\u001b[0mProgrammer\u001b[0m\u001b[1;33m(\u001b[0m\u001b[1;34m\"diana\"\u001b[0m\u001b[1;33m,\u001b[0m\u001b[1;34m\"putri\"\u001b[0m\u001b[1;33m)\u001b[0m\u001b[1;33m\u001b[0m\u001b[0m\n\u001b[0m\u001b[0;32m     27\u001b[0m \u001b[0mdiana\u001b[0m\u001b[1;33m.\u001b[0m\u001b[0mprintName\u001b[0m\u001b[1;33m(\u001b[0m\u001b[1;33m)\u001b[0m\u001b[1;33m\u001b[0m\u001b[0m\n\u001b[0;32m     28\u001b[0m \u001b[0mdiana\u001b[0m\u001b[1;33m.\u001b[0m\u001b[0mprintLastname\u001b[0m\u001b[1;33m(\u001b[0m\u001b[1;33m)\u001b[0m\u001b[1;33m\u001b[0m\u001b[0m\n",
      "\u001b[1;32m<ipython-input-4-f610c89b2b1e>\u001b[0m in \u001b[0;36m__init__\u001b[1;34m(self, name, lastname)\u001b[0m\n\u001b[0;32m     10\u001b[0m     \u001b[1;32mdef\u001b[0m \u001b[0m__init__\u001b[0m\u001b[1;33m(\u001b[0m\u001b[0mself\u001b[0m\u001b[1;33m,\u001b[0m\u001b[0mname\u001b[0m\u001b[1;33m,\u001b[0m\u001b[0mlastname\u001b[0m\u001b[1;33m)\u001b[0m\u001b[1;33m:\u001b[0m\u001b[1;33m\u001b[0m\u001b[0m\n\u001b[0;32m     11\u001b[0m         \u001b[0mself\u001b[0m\u001b[1;33m.\u001b[0m\u001b[0mlastname\u001b[0m\u001b[1;33m=\u001b[0m\u001b[0mlastname\u001b[0m\u001b[1;33m\u001b[0m\u001b[0m\n\u001b[1;32m---> 12\u001b[1;33m         \u001b[0msuper\u001b[0m\u001b[1;33m(\u001b[0m\u001b[1;33m)\u001b[0m\u001b[1;33m.\u001b[0m\u001b[0m__init__\u001b[0m\u001b[1;33m(\u001b[0m\u001b[0mself\u001b[0m\u001b[1;33m,\u001b[0m\u001b[0mname\u001b[0m\u001b[1;33m)\u001b[0m\u001b[1;33m\u001b[0m\u001b[0m\n\u001b[0m\u001b[0;32m     13\u001b[0m     \u001b[1;32mdef\u001b[0m \u001b[0mprintLastname\u001b[0m\u001b[1;33m(\u001b[0m\u001b[0mself\u001b[0m\u001b[1;33m)\u001b[0m\u001b[1;33m:\u001b[0m\u001b[1;33m\u001b[0m\u001b[0m\n\u001b[0;32m     14\u001b[0m         \u001b[0mprint\u001b[0m \u001b[1;33m(\u001b[0m\u001b[1;34m\"Name=\"\u001b[0m\u001b[1;33m,\u001b[0m\u001b[0mself\u001b[0m\u001b[1;33m.\u001b[0m\u001b[0mlastname\u001b[0m\u001b[1;33m)\u001b[0m\u001b[1;33m\u001b[0m\u001b[0m\n",
      "\u001b[1;31mTypeError\u001b[0m: __init__() takes 2 positional arguments but 3 were given"
     ]
    }
   ],
   "source": [
    "#SUPER: menambahkan sesuatu yang unik di class anak, yang beda dari induk\n",
    "#property yang lainnya mengikut di class induk\n",
    "class user:\n",
    "    name=\"\"\n",
    "    def __init__(self,name):\n",
    "        self.name=name\n",
    "    def printName(self):\n",
    "        print (\"Name=\",self.name)\n",
    "class Programmer(user):#inheritance super\n",
    "    def __init__(self,name,lastname):\n",
    "        self.lastname=lastname\n",
    "        super().__init__(self,name)\n",
    "    def printLastname(self):\n",
    "        print (\"Name=\",self.lastname)\n",
    "    def doPython(self):\n",
    "        print(\"Programing Python\")\n",
    "class Programmer1(user):\n",
    "    pass \n",
    "\n",
    "brian=user(\"Diana\")\n",
    "brian.printName()\n",
    "\n",
    "diana1=Programmer1(\"Diana\")\n",
    "diana1.printName()\n",
    "\n",
    "diana=Programmer(\"diana\",\"putri\")\n",
    "diana.printName()          \n",
    "diana.printLastname()\n",
    "diana.doPython()\n",
    "\n"
   ]
  },
  {
   "cell_type": "code",
   "execution_count": null,
   "metadata": {},
   "outputs": [],
   "source": [
    "class orang :\n",
    "    def __init__(self,nama):\n",
    "        self.nama=nama\n",
    "    def printnama(self):\n",
    "        print (\"NAMA = \"+self.nama)\n",
    "class mahasiswa (orang):\n",
    "    def __init__(self,nama,npm):\n",
    "        self.npm=npm\n",
    "        orang.__init__(self,nama)\n",
    "    def printnama(self):\n",
    "        print (\"Nama mahasiswa = \"+self.nama)\n",
    "    def printnpm(self):\n",
    "        print (\"NPM = \"+self.npm)\n",
    "    def semester(self,tahun,nim,gg):\n",
    "        a=str(nim[0])+str(nim[1])\n",
    "        b=str(tahun[2])+str(tahun[3])\n",
    "        c=int(a)\n",
    "        d=int(b)\n",
    "        if gg==\"ganjil\":\n",
    "            smstr=(d-c)*2+1\n",
    "            print(\"Semester = \",smstr)\n",
    "        elif gg==\"genap\":\n",
    "            smstr=(d-c)*2\n",
    "            print(\"Semester = \",smstr)\n",
    "        else:\n",
    "            print (\"inputan salah\")\n",
    "class pegawai(orang):\n",
    "    def __init__(self,nama,nip):\n",
    "        self.nip=nip\n",
    "        orang.__init__(self,nama)\n",
    "    def printpgw(self):\n",
    "        print (\"NAMA = \"+ self.nama)\n",
    "    def printnip(self):\n",
    "        print (\"NIP  = \", self.nip)\n",
    "class dosen(pegawai):\n",
    "    def __init__(self,nama,nip,nidn):\n",
    "        self.nidn=nidn\n",
    "        pegawai.__init__(self,nama,nip)\n",
    "    def printdosen(self):\n",
    "        print (\"NAMA DOSEN = \"+ self.nama)\n",
    "    def printnip(self):\n",
    "        print (\"NIP        = \",self.nip)\n",
    "    def printnidn(self):\n",
    "        print (\"NIDN       = \", self.nidn)\n",
    "class karyawan(pegawai):\n",
    "    pass\n",
    "\n",
    "print (\"========= DATA ===========\")\n",
    "print ()\n",
    "nm=str(input(\"NAMA   = \"))\n",
    "npm=str(input(\"NPM   = \"))\n",
    "nip=int(input(\"NIP   = \"))\n",
    "nidn=int(input(\"NIDN = \"))\n",
    "tahun=str(input(\"Tahun Sekarang = \")) \n",
    "print (\"SEMESTER\")\n",
    "gg=str(input(\"Genap/Ganjil = \"))\n",
    "print (\"\")\n",
    "misal=orang(nm)\n",
    "misal2=mahasiswa(nm,npm)\n",
    "misal3=pegawai(nm,nip)\n",
    "misal4=dosen(nm,nip,nidn)\n",
    "misal5=karyawan(nm,nip)\n",
    "print (\"========= DATA MAHASISWA ===========\")\n",
    "misal2.printnama()\n",
    "misal2.printnpm()\n",
    "misal2.semester(tahun,npm,gg)\n",
    "print (\"\")\n",
    "print (\"========= DATA DOSEN ===========\")\n",
    "misal4.printdosen()\n",
    "misal4.printnip()\n",
    "misal4.printnidn()\n",
    "print ()\n",
    "print (\"========= DATA KARYAWAN ===========\")\n",
    "misal5.printpgw()\n",
    "misal5.printnip()\n",
    "    \n"
   ]
  },
  {
   "cell_type": "code",
   "execution_count": 22,
   "metadata": {},
   "outputs": [
    {
     "name": "stdout",
     "output_type": "stream",
     "text": [
      "nama:\"hesty\"\n",
      "npm : 12\n",
      "nilai\n",
      "math : 90\n",
      "biologi: 100\n",
      "nama:\"oca\"\n",
      "npm : 12\n",
      "nilai\n",
      "math : 80\n",
      "biologi: 80\n",
      "('\\n\\nName:', 'hesty')\n",
      "('npm: ', 12)\n",
      "('nilai:', 190)\n",
      "('\\n\\nName:', 'oca')\n",
      "('npm: ', 12)\n",
      "('nilai:', 160)\n"
     ]
    }
   ],
   "source": [
    "#multiple inheritance\n",
    "class person:\n",
    "    def __init__(self):\n",
    "        self.name = input(\"nama:\")\n",
    "    def display(self):\n",
    "        print (\"\\n\\nName:\",self.name)\n",
    "class marks:\n",
    "    def __init__(self):\n",
    "        self.npm = input(\"npm : \")\n",
    "        print (\"nilai\")\n",
    "        self.math=int(input(\"math : \"))\n",
    "        self.biology=int(input(\"biologi: \"))\n",
    "    def display(self):\n",
    "        print (\"npm: \", self.npm)\n",
    "        print (\"nilai:\", self.math+self.biology)\n",
    "class student(person,marks):\n",
    "    def __init__(self):\n",
    "        person.__init__(self)\n",
    "        marks.__init__(self)\n",
    "    def result(self):\n",
    "        person.display(self)\n",
    "        marks.display(self)\n",
    "stu1=student()\n",
    "stu2=student()\n",
    "stu1.result()\n",
    "stu2.result()\n",
    "        "
   ]
  },
  {
   "cell_type": "code",
   "execution_count": null,
   "metadata": {},
   "outputs": [],
   "source": []
  }
 ],
 "metadata": {
  "kernelspec": {
   "display_name": "Python 3",
   "language": "python",
   "name": "python3"
  },
  "language_info": {
   "codemirror_mode": {
    "name": "ipython",
    "version": 3
   },
   "file_extension": ".py",
   "mimetype": "text/x-python",
   "name": "python",
   "nbconvert_exporter": "python",
   "pygments_lexer": "ipython3",
   "version": "3.7.0"
  }
 },
 "nbformat": 4,
 "nbformat_minor": 2
}
