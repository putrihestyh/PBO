{
 "cells": [
  {
   "cell_type": "code",
   "execution_count": null,
   "metadata": {},
   "outputs": [],
   "source": [
    "ENCAPSULATION \n",
    "informasi yang tersembunyi yaitu properti dan method privat\n",
    "cara untuk mengakses method atau property privat merupakan encapsulation\n",
    "adalah pengkombinasian/pembungkusan antara data dan prosedur ataupun fungsi (method) yang memanipulasinya ke dalam sebuah object \n",
    "pada bagian yang terlindungi sehingga data-datanya tidak mudah diakses langsung dari luar.\n",
    "\n",
    "Private method\tHanya dapat diakses di kelas mereka sendiri. dimulai dengan dua garis bawah(def __privatnethod(self):)\n",
    "Private variables\tHanya dapat diakses di kelas mereka sendiri atau dengan metode jika didefinisikan. \n",
    "                    dimulai dengan dua garis bawah (self.__a=100,self_b=200)\n",
    "public methods\tDapat diakses dari mana saja(def methodpublic(self):)\n",
    "    \n",
    "Penunjukan private hanya memungkinkan variabel atau method yang akan diakses dari dalam class atau objeknya sendiri. Anda tidak \n",
    "dapat mengubah nilai private variabel dari luar class. Private variabel dan private method didahului oleh dua garis bawah. \n"
   ]
  },
  {
   "cell_type": "code",
   "execution_count": null,
   "metadata": {},
   "outputs": [],
   "source": [
    "class Car:\n",
    " \n",
    "    def __init__(self):\n",
    "        self.__updateSoftware()\n",
    " \n",
    "    def drive(self):\n",
    "        print ('driving')\n",
    " \n",
    "    def __updateSoftware(self):#private method\n",
    "        print ('updating software')\n",
    " \n",
    "redcar = Car()\n",
    "redcar.drive()\n",
    "redcar._Car__updateSoftware ()#cara agar private method dapat digunakan diluar class\n",
    "redcar.__updateSoftware()#tidak bisa diakses diluar class karna private method"
   ]
  },
  {
   "cell_type": "code",
   "execution_count": 2,
   "metadata": {},
   "outputs": [
    {
     "name": "stdout",
     "output_type": "stream",
     "text": [
      "driving. maxspeed 200\n",
      "driving. maxspeed 200\n"
     ]
    }
   ],
   "source": [
    "class Car:\n",
    " \n",
    "    __maxspeed = 0\n",
    "    __name = \"\"\n",
    " \n",
    "    def __init__(self):\n",
    "        self.__maxspeed = 200 #private atribut\n",
    "        self.__name = \"Supercar\" #privat atribut\n",
    " \n",
    "    def drive(self):\n",
    "        print ('driving. maxspeed ' + str(self.__maxspeed))\n",
    "    def setMaxSpeed(self,speed):#method public cara agar method private bisa digunakan di luar class\n",
    "        self.__maxspeed = speed\n",
    " \n",
    "redcar = Car()\n",
    "redcar.drive()\n",
    "redcar.__maxspeed = 10  # tidak akan mengubah variabel karena bersifat pribadi\n",
    "redcar.drive()\n",
    "redcar.setMaxSpeed(320)#method public untuk mengubah nilai privat atribut\n",
    "\n"
   ]
  },
  {
   "cell_type": "code",
   "execution_count": 9,
   "metadata": {},
   "outputs": [
    {
     "name": "stdout",
     "output_type": "stream",
     "text": [
      "\n",
      "\n",
      "hasil pengurangan =  50\n",
      "hasil penjumlhan =  150\n",
      "hasil perkalian =  5000\n",
      "hasil pembagian =  2.0\n",
      "hasil penjumlhan =  300\n",
      "hasil pengurangan =  100\n"
     ]
    }
   ],
   "source": [
    "class bilangan:\n",
    "    __bil1=0\n",
    "    __bil2=0\n",
    "    def __init__(self):\n",
    "        self.__bil1=100\n",
    "        self.__bil2=50\n",
    "    def __pengurangan(self):\n",
    "        kurang=self.__bil1-self.__bil2\n",
    "        print ('hasil pengurangan = ', kurang)\n",
    "    def penjumlahan (self):\n",
    "        jumlah=self.__bil1+self.__bil2\n",
    "        print ('hasil penjumlhan = ', jumlah)\n",
    "    def perkalian(self):\n",
    "        kali=self.__bil1*self.__bil2\n",
    "        print ('hasil perkalian = ', kali)\n",
    "    def pembagian(self):\n",
    "        bagi=self.__bil1/self.__bil2\n",
    "        print ('hasil pembagian = ', bagi)\n",
    "    def setbil(self,bil3,bil4):\n",
    "        self.__bil1=bil3\n",
    "        self.__bil2=bil4\n",
    "misal=bilangan()\n",
    "print ()\n",
    "print('')\n",
    "misal._bilangan__pengurangan()\n",
    "misal.penjumlahan()\n",
    "misal.perkalian()\n",
    "misal.pembagian()\n",
    "misal.setbil(200,100)\n",
    "misal.penjumlahan()\n",
    "misal._bilangan__pengurangan()"
   ]
  }
 ],
 "metadata": {
  "kernelspec": {
   "display_name": "Python 3",
   "language": "python",
   "name": "python3"
  },
  "language_info": {
   "codemirror_mode": {
    "name": "ipython",
    "version": 3
   },
   "file_extension": ".py",
   "mimetype": "text/x-python",
   "name": "python",
   "nbconvert_exporter": "python",
   "pygments_lexer": "ipython3",
   "version": "3.7.0"
  }
 },
 "nbformat": 4,
 "nbformat_minor": 2
}
