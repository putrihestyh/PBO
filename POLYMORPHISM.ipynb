{
 "cells": [
  {
   "cell_type": "code",
   "execution_count": null,
   "metadata": {},
   "outputs": [],
   "source": [
    "#POLYMORPHISM\n",
    "Polimorfisme adalah kemampuan untuk memanfaatkan antarmuka yang sama untuk berbagai bentuk dasar seperti tipe data atau kelas .\n",
    "Ini memungkinkan fungsi untuk menggunakan entitas dari berbagai jenis pada waktu yang berbeda.\n",
    "\n",
    "Polimorfisme adalah fitur penting dari definisi kelas dalam Python yang digunakan ketika Anda memiliki metode yang biasa disebut \n",
    "di seluruh kelas atau subclass.\n",
    "\n",
    "Polimorfisme dapat dilakukan melalui pewarisan , dengan subclass yang menggunakan metode kelas dasar \n",
    "\n",
    "#OBJECT=CLASS YNG SUDAH DIBERIKAN PROPERTY\n",
    "#BANYAK BENTUK.\n",
    "#polymorphism\n",
    "#abstrak class=dokumen class\n",
    "#OVERLOADING KONSEP"
   ]
  },
  {
   "cell_type": "code",
   "execution_count": null,
   "metadata": {},
   "outputs": [],
   "source": [
    "class shark():\n",
    "    def swim(self):\n",
    "        print ('the shark is swimming')\n",
    "    def swim_backward(self):\n",
    "        print ('the shark cannot swim backward,but can swim backward')\n",
    "    def skeleton(self):\n",
    "        print ('the shark skeleton is madeof cartilage')\n",
    "class clownfish():\n",
    "    def swim(self):\n",
    "        print ('the clown fish is swimming')\n",
    "    def swim_backward(self):\n",
    "        print ('the clownfish can swim backward')\n",
    "    def skeleton(self):\n",
    "        print ('the clownfish skeleton is made of bone')\n",
    "sammy=shark()\n",
    "sammy.skeleton()\n",
    "\n",
    "casey=clownfish()\n",
    "casey.skeleton()\n",
    "print ()\n",
    "#POLYMORPHISM with a function\n",
    "def in_the_pacific(fish):\n",
    "    fish.swim()\n",
    "sammy=shark()\n",
    "casey=clownfish()\n",
    "in_the_pacific(sammy)\n",
    "in_the_pacific(casey)\n",
    "print()\n",
    "#POLYMORPHISM with a method\n",
    "sammy=shark()\n",
    "casey=clownfish()\n",
    "for fish in(sammy,casey):\n",
    "    fish.swim()\n",
    "    fish.swim_backward()\n",
    "    fish.skeleton()\n",
    "    "
   ]
  },
  {
   "cell_type": "code",
   "execution_count": null,
   "metadata": {},
   "outputs": [],
   "source": []
  },
  {
   "cell_type": "code",
   "execution_count": 1,
   "metadata": {},
   "outputs": [
    {
     "name": "stdout",
     "output_type": "stream",
     "text": [
      "8818 , hesty  ' 13111998\n",
      "SALDO SEKARANG= 130000\n"
     ]
    }
   ],
   "source": []
  },
  {
   "cell_type": "code",
   "execution_count": null,
   "metadata": {},
   "outputs": [],
   "source": []
  }
 ],
 "metadata": {
  "kernelspec": {
   "display_name": "Python 3",
   "language": "python",
   "name": "python3"
  },
  "language_info": {
   "codemirror_mode": {
    "name": "ipython",
    "version": 3
   },
   "file_extension": ".py",
   "mimetype": "text/x-python",
   "name": "python",
   "nbconvert_exporter": "python",
   "pygments_lexer": "ipython3",
   "version": "3.7.0"
  }
 },
 "nbformat": 4,
 "nbformat_minor": 2
}
