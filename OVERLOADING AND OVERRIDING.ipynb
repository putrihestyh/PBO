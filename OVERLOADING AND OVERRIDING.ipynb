{
 "cells": [
  {
   "cell_type": "code",
   "execution_count": null,
   "metadata": {},
   "outputs": [],
   "source": [
    "METHOD OVERLOADING\n",
    "Method overloading adalah Penugasan lebih dari satu perilaku ke fungsi\n",
    "tertentu. Operasi yang dilakukan bervariasi menurut jenis objek atau argumen\n",
    "yang terlibat.\n",
    "method hanya satu tetapi pemanggilannya banyak tergantung dari parameter.\n",
    "dalam pemanggilannya dilihat dari parameternya\n",
    "ada percabangan dalam methotnya untuk cek parameter yang diinputkan\n",
    "\n",
    "METHOD OVERRIDING\n",
    "method banyak tetapi isinya yang berbeda\n",
    "\n",
    "OPERATOR OVERLOADING\n",
    "operator yang banyak artinya atau bentuknya apakah untuk menambahkan atau menggabungkan.\n",
    "pembuatan beberapa fungsi atau kegunaan untuk suatu operator. misal operator +\n",
    "tidak hanya untuk menambahkan integer tetapi juga meggabungkan string.\n",
    "operator overloading tidak hanya digunakan pada method.\n",
    "#magic method\n",
    "biasanya untuk mendefinisikan spesial method dalam suatu class.\n",
    "misal:\n",
    "x+y atau\n",
    "x__add__(y)"
   ]
  },
  {
   "cell_type": "code",
   "execution_count": null,
   "metadata": {},
   "outputs": [],
   "source": [
    "#METHOD OVERLOADING\n",
    "class Human: \n",
    "    def sayHello(self, name=None):\n",
    "        if name is not None:\n",
    "            print ('Hello ' + name )\n",
    "        else:\n",
    "            print ('Hello ') \n",
    "# Create instance \n",
    "obj = Human()# Call the method \n",
    "obj.sayHello()# Call the method with a parameter \n",
    "obj.sayHello('Guido')"
   ]
  },
  {
   "cell_type": "code",
   "execution_count": null,
   "metadata": {},
   "outputs": [],
   "source": [
    "#operator overloading\n",
    "class fraction:\n",
    "    def __init__(self,top,bottom):\n",
    "        self.num=top\n",
    "        self.den=bottom\n",
    "    def show(self):\n",
    "        print (self.num,'/',self.den)\n",
    "    def __str__(self):\n",
    "        return str(self.num)+'/'+str(self.den)#mengubah suatu objek kedalam bentuk konversi atau string)\n",
    "    def __add__ (self,otherFraction):\n",
    "        newnum=self.num*otherFraction.den+self.den*otherFraction.num\n",
    "        newden=self.den*otherFraction.den\n",
    "        return (fraction(newnum,newden))\n",
    "f1=fraction(1,4)\n",
    "f2=fraction(1,2)\n",
    "print (f1+f2)\n",
    "class point :\n",
    "    def __init__(self,x=0,y=0):\n",
    "        self.x=x\n",
    "        self.y=y\n",
    "    def __str__(self):\n",
    "        return (\"({0}),({1})\".format(self.x,self.y))\n",
    "    def __str__(self):\n",
    "        return(\"point object is at:(\"+str(self.x)+\",\"+str(self.y)+\")\")\n",
    "    def __sub__(self,other):\n",
    "        x=self.x-other.x\n",
    "        y=self.y-other.y\n",
    "        return point(x,y)\n",
    "p1=point(2,3)\n",
    "p2=point(-1,2)\n",
    "print(p1+p2)"
   ]
  },
  {
   "cell_type": "code",
   "execution_count": null,
   "metadata": {},
   "outputs": [],
   "source": []
  }
 ],
 "metadata": {
  "kernelspec": {
   "display_name": "Python 3",
   "language": "python",
   "name": "python3"
  },
  "language_info": {
   "codemirror_mode": {
    "name": "ipython",
    "version": 3
   },
   "file_extension": ".py",
   "mimetype": "text/x-python",
   "name": "python",
   "nbconvert_exporter": "python",
   "pygments_lexer": "ipython3",
   "version": "3.7.0"
  }
 },
 "nbformat": 4,
 "nbformat_minor": 2
}
