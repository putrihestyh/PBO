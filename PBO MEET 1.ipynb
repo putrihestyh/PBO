{
 "cells": [
  {
   "cell_type": "code",
   "execution_count": null,
   "metadata": {},
   "outputs": [],
   "source": [
    "#class vs objek\n",
    "\n",
    "#we can create \"things\" with:\n",
    "    #things = object\n",
    "    #we=class\n",
    "    #object=variable dengan tipe data class\n",
    "    #method=fungsi yang melekat pada class\n",
    "    #properti itu terdiri dari atribut dan variable\n",
    "    #atribut = have(bahan)\n",
    "    #method= \"things\" can do(mengolah)\n",
    "#ketika kamu membuat class, kamu harus memikirkan tentang objek yang akan dibuat dari jenis kelasnya\n",
    "# yang bisa dilakukan oleh object adalah method\n",
    "# class bukan objek tapi dia digunakan untuk membangun object. \n",
    "#class=tempat\n",
    "#object= instansi dari class\n",
    "# constructor menggunakan method bawaan python yang bernama init\n",
    "#setiap method harus punya parameter self yang artinya method tersebut dimiliki dan terdaftar ke class tersebut untuk membedakan dari method atau fungsi yang ada di luar class\n",
    "#mengakses method obect menggunakan operator titik\n",
    "# class adalah kode template untuk create suatu object.\n",
    "#object adalah hasil ciptaan dari class. atau representasi nyata dari class"
   ]
  },
  {
   "cell_type": "code",
   "execution_count": 1,
   "metadata": {},
   "outputs": [
    {
     "name": "stdout",
     "output_type": "stream",
     "text": [
      "4\n",
      "('luas=', 16)\n",
      "('volume=', 64)\n",
      "('Luas Permukaan=', 24)\n"
     ]
    }
   ],
   "source": [
    "class Kubus:\n",
    "    def __init__(self,s):\n",
    "        self.sisi = s\n",
    "    def tampilkansisi(self):\n",
    "        print(self.sisi)\n",
    "    def luas (self):\n",
    "        print (\"luas=\",self.sisi**2)\n",
    "    def volum(self):\n",
    "        print (\"volume=\", self.sisi**3)\n",
    "    def Luaspermukaan(self):\n",
    "        print (\"Luas Permukaan=\", self.sisi*6)\n",
    "Kubus1= Kubus(4)\n",
    "Kubus1.tampilkansisi()\n",
    "Kubus1.luas()\n",
    "Kubus1.volum()\n",
    "Kubus1.Luaspermukaan()"
   ]
  },
  {
   "cell_type": "code",
   "execution_count": null,
   "metadata": {},
   "outputs": [],
   "source": [
    "class pegawai:\n",
    "    def __init__(self,n,j,g):\n",
    "        self.nama=n\n",
    "        self.jabatan=j\n",
    "        self.gaji=g\n",
    "    def tampilkan(self):\n",
    "        print(self.nama,\",\",self.jabatan,\"dan\",self.gaji*10)\n",
    "\n",
    "p1=pegawai(\"Adi\",\"boss\",1000)\n",
    "p1.tampilkan()\n"
   ]
  },
  {
   "cell_type": "code",
   "execution_count": null,
   "metadata": {},
   "outputs": [],
   "source": [
    "class mahasiswa:\n",
    "    def __init__(self,npm,nama,ipk):\n",
    "        self.npm=npm\n",
    "        self.nama=nama\n",
    "        self.ipk=ipk\n",
    "    def tampilkan(self):\n",
    "        print (self.npm,\",\",self.nama,\"'\",self.ipk)\n",
    "    def predikat(self):\n",
    "        if self.ipk >= 3.5 :\n",
    "            print (\"cumlaude\")\n",
    "        elif self.ipk>3 and self.ipk<3.5:\n",
    "            print(\"sangat memuaskan\")\n",
    "        elif self.ipk>2.5 and self.ipk<3:\n",
    "            print(\"memuaskan\")\n",
    "        else:\n",
    "            print (\"cukup\")\n",
    "            \n",
    "mhs=mahasiswa(\"001\",\"hesty\",1000)\n",
    "mhs.tampilkan()\n",
    "mhs.predikat()"
   ]
  },
  {
   "cell_type": "code",
   "execution_count": null,
   "metadata": {},
   "outputs": [],
   "source": [
    "class nasabah:\n",
    "    def __init__(self,nn,nama,norek):\n",
    "        self.nonasabah=nn\n",
    "        self.nama=nama\n",
    "        self.norekening=norek\n",
    "    def tampilkan(self):\n",
    "        print (self.nonasabah,\",\",self.nama,\"'\",self.norekening)\n",
    "nsbh=nasabah(\"8818\",\"hesty \",\"13111998\")\n",
    "nsbh.tampilkan()\n",
    "class rekening:\n",
    "    def __init__(self,norek,saldo):\n",
    "        self.norekening=norek\n",
    "        self.saldo=saldo\n",
    "    def ambiluang(self,n):\n",
    "        self.saldo-=n\n",
    "    def setoruang(self,s):\n",
    "        self.saldo+=s\n",
    "    def ceksaldo(self):\n",
    "        print (\"SALDO SEKARANG=\",self.saldo)\n",
    "        \n",
    "rek=rekening (\"8818\",120000)\n",
    "rek.ambiluang(30000)\n",
    "rek.setoruang(40000)\n",
    "rek.ceksaldo()"
   ]
  },
  {
   "cell_type": "code",
   "execution_count": 2,
   "metadata": {},
   "outputs": [
    {
     "name": "stdout",
     "output_type": "stream",
     "text": [
      "----------------------------------------\n",
      "contoh\n",
      "Masukkan nomer pegawai= 1111\n",
      "Maukkan Nama= Hesty\n",
      "Masukkan tanggal lahir= 13111998\n",
      "----------------------------------------\n",
      "Masukkan nomer pegawai =111\n",
      "Masukkan nama         =\"FIRA\"\n",
      "Masukkan tanggal lahir =\"19111998\"\n",
      "Tahun sekarang          =2018\n",
      "----------------------------------------\n",
      "('Tahun sekarang =', 2018)\n",
      "('Nomer pegawai  =', 111)\n",
      "('Nama           =', 'FIRA')\n",
      "('Tanggal lahir  =', '19-11-1998')\n",
      "('umur sekarang  =', 20, 'tahun')\n",
      "----------------------------------------\n"
     ]
    }
   ],
   "source": [
    "class pegawai:\n",
    "    def __init__(self,no,nama,tgl):\n",
    "        self.nomer=no\n",
    "        self.nama=nama\n",
    "        self.ttl=tgl\n",
    "    def cekumur(self,thn):\n",
    "        self.thn=thn\n",
    "        print (\"Tahun sekarang =\",self.thn)\n",
    "        a=str(self.ttl[4])+str(self.ttl[5])+str(self.ttl[6])+str(self.ttl[7])\n",
    "        integer=int(a)\n",
    "        self.thn=self.thn-integer\n",
    "    def tampilkan(self):\n",
    "        b=str(self.ttl[0])+str(self.ttl[1])+\"-\"+str(self.ttl[2])+str(self.ttl[3])+\"-\"+str(self.ttl[4])+str(self.ttl[5])+str(self.ttl[6])+str(self.ttl[7])\n",
    "        print (\"Nomer pegawai  =\",self.nomer)\n",
    "        print (\"Nama           =\",self.nama)\n",
    "        print (\"Tanggal lahir  =\",b)\n",
    "        print (\"umur sekarang  =\",self.thn,\"tahun\")\n",
    "print(\"----------------------------------------\")\n",
    "print (\"contoh\")\n",
    "print (\"Masukkan nomer pegawai= 1111\")\n",
    "print (\"Maukkan Nama= Hesty\")\n",
    "print (\"Masukkan tanggal lahir= 13111998\")\n",
    "print(\"----------------------------------------\")\n",
    "nmr=int(input('Masukkan nomer pegawai ='))\n",
    "nm=str(input(\"Masukkan nama         =\"))\n",
    "ttl=str(input(\"Masukkan tanggal lahir =\"))\n",
    "thun=int(input(\"Tahun sekarang          =\"))\n",
    "print(\"----------------------------------------\")\n",
    "peg=pegawai(nmr,nm,ttl)\n",
    "peg.cekumur(thun)\n",
    "peg.tampilkan()\n",
    "print(\"----------------------------------------\")\n",
    "\n",
    "#https://trinket.io/python3/83044f33d3\n"
   ]
  },
  {
   "cell_type": "code",
   "execution_count": null,
   "metadata": {},
   "outputs": [],
   "source": []
  }
 ],
 "metadata": {
  "kernelspec": {
   "display_name": "Python 3",
   "language": "python",
   "name": "python3"
  },
  "language_info": {
   "codemirror_mode": {
    "name": "ipython",
    "version": 3
   },
   "file_extension": ".py",
   "mimetype": "text/x-python",
   "name": "python",
   "nbconvert_exporter": "python",
   "pygments_lexer": "ipython3",
   "version": "3.7.0"
  }
 },
 "nbformat": 4,
 "nbformat_minor": 2
}
